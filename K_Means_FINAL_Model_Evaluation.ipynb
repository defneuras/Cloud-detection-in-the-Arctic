{
  "cells": [
    {
      "cell_type": "markdown",
      "metadata": {
        "id": "view-in-github",
        "colab_type": "text"
      },
      "source": [
        "<a href=\"https://colab.research.google.com/github/defneuras/Cloud-detection-in-the-Arctic/blob/main/K_Means_FINAL_Model_Evaluation.ipynb\" target=\"_parent\"><img src=\"https://colab.research.google.com/assets/colab-badge.svg\" alt=\"Open In Colab\"/></a>"
      ]
    },
    {
      "cell_type": "code",
      "execution_count": null,
      "metadata": {
        "colab": {
          "base_uri": "https://localhost:8080/"
        },
        "id": "9AUYE_JnUGrN",
        "outputId": "2b2170f1-4c32-4eaf-dd45-bef3098e93ef"
      },
      "outputs": [
        {
          "output_type": "stream",
          "name": "stdout",
          "text": [
            "Mounted at /content/drive\n"
          ]
        }
      ],
      "source": [
        "from google.colab import drive\n",
        "drive.mount('/content/drive')\n",
        "import os\n",
        "\n",
        "root_dir = '/content/drive/MyDrive/Sentinel2_CloudProject'\n",
        "bands_dir = f'{root_dir}/Bands'\n",
        "label_dir = f'{root_dir}/Classification'"
      ]
    },
    {
      "cell_type": "code",
      "source": [
        "import pandas as pd\n",
        "import numpy as np"
      ],
      "metadata": {
        "id": "oUZYAcVNPPIG"
      },
      "execution_count": null,
      "outputs": []
    },
    {
      "cell_type": "code",
      "source": [
        "!pip install rasterio"
      ],
      "metadata": {
        "colab": {
          "base_uri": "https://localhost:8080/"
        },
        "id": "uenzZ3fXPhqy",
        "outputId": "0fd4aee1-ea15-4aec-c103-e0e891870af5"
      },
      "execution_count": null,
      "outputs": [
        {
          "output_type": "stream",
          "name": "stdout",
          "text": [
            "Collecting rasterio\n",
            "  Downloading rasterio-1.4.3-cp312-cp312-manylinux_2_17_x86_64.manylinux2014_x86_64.whl.metadata (9.1 kB)\n",
            "Collecting affine (from rasterio)\n",
            "  Downloading affine-2.4.0-py3-none-any.whl.metadata (4.0 kB)\n",
            "Requirement already satisfied: attrs in /usr/local/lib/python3.12/dist-packages (from rasterio) (25.3.0)\n",
            "Requirement already satisfied: certifi in /usr/local/lib/python3.12/dist-packages (from rasterio) (2025.8.3)\n",
            "Requirement already satisfied: click>=4.0 in /usr/local/lib/python3.12/dist-packages (from rasterio) (8.2.1)\n",
            "Collecting cligj>=0.5 (from rasterio)\n",
            "  Downloading cligj-0.7.2-py3-none-any.whl.metadata (5.0 kB)\n",
            "Requirement already satisfied: numpy>=1.24 in /usr/local/lib/python3.12/dist-packages (from rasterio) (2.0.2)\n",
            "Collecting click-plugins (from rasterio)\n",
            "  Downloading click_plugins-1.1.1.2-py2.py3-none-any.whl.metadata (6.5 kB)\n",
            "Requirement already satisfied: pyparsing in /usr/local/lib/python3.12/dist-packages (from rasterio) (3.2.3)\n",
            "Downloading rasterio-1.4.3-cp312-cp312-manylinux_2_17_x86_64.manylinux2014_x86_64.whl (22.3 MB)\n",
            "\u001b[2K   \u001b[90m━━━━━━━━━━━━━━━━━━━━━━━━━━━━━━━━━━━━━━━━\u001b[0m \u001b[32m22.3/22.3 MB\u001b[0m \u001b[31m80.5 MB/s\u001b[0m eta \u001b[36m0:00:00\u001b[0m\n",
            "\u001b[?25hDownloading cligj-0.7.2-py3-none-any.whl (7.1 kB)\n",
            "Downloading affine-2.4.0-py3-none-any.whl (15 kB)\n",
            "Downloading click_plugins-1.1.1.2-py2.py3-none-any.whl (11 kB)\n",
            "Installing collected packages: cligj, click-plugins, affine, rasterio\n",
            "Successfully installed affine-2.4.0 click-plugins-1.1.1.2 cligj-0.7.2 rasterio-1.4.3\n"
          ]
        }
      ]
    },
    {
      "cell_type": "code",
      "source": [
        "import numpy as np\n",
        "from sklearn.cluster import KMeans\n",
        "\n",
        "# Load your cleaned patch dataset\n",
        "X = np.load(\"/content/drive/MyDrive/Sentinel2_CloudProject/Validation/X_clean_patch_classifier.npy\")\n",
        "\n",
        "# Use mean reflectance across each patch (B02, B03, B04)\n",
        "X_feat = X.mean(axis=(1, 2))  # shape: (n_patches, 3)\n",
        "\n",
        "# Train KMeans with 2 clusters (cloud vs snow)\n",
        "kmeans = KMeans(n_clusters=2, random_state=42, n_init=10).fit(X_feat)\n",
        "\n",
        "print(\"✅ KMeans model trained on\", X_feat.shape[0], \"patches.\")"
      ],
      "metadata": {
        "id": "vplyHXYWDCtc"
      },
      "execution_count": null,
      "outputs": []
    },
    {
      "cell_type": "code",
      "source": [
        "import rasterio\n",
        "import numpy as np\n",
        "\n",
        "def load_bands_and_label(tile_id, date_str, label_filename, band_dir, label_dir):\n",
        "    band_list = ['B02', 'B03', 'B04']\n",
        "    band_arrays = []\n",
        "\n",
        "    for band in band_list:\n",
        "        band_file = f\"{tile_id}_{date_str}_{band}_10m.jp2\"\n",
        "        band_path = os.path.join(band_dir, band_file)\n",
        "        with rasterio.open(band_path) as src:\n",
        "            band_data = src.read(1)\n",
        "        band_arrays.append(band_data)\n",
        "\n",
        "    bands = np.stack(band_arrays, axis=-1)\n",
        "\n",
        "    label_path = os.path.join(label_dir, label_filename)\n",
        "    with rasterio.open(label_path) as src:\n",
        "        label = src.read(1)\n",
        "\n",
        "    return bands, label"
      ],
      "metadata": {
        "id": "cBzL6n5hPi1V"
      },
      "execution_count": null,
      "outputs": []
    },
    {
      "cell_type": "code",
      "source": [
        "def extract_training_patches(bands, mask, size=64):\n",
        "    \"\"\"Extract 64×64 patches with snow (2) or cloud (1) present.\"\"\"\n",
        "    X_patches = []\n",
        "    y_labels = []\n",
        "\n",
        "    h, w = mask.shape\n",
        "    for i in range(0, h - size, size):\n",
        "        for j in range(0, w - size, size):\n",
        "            patch_mask = mask[i:i+size, j:j+size]\n",
        "            patch_bands = bands[i:i+size, j:j+size, :]\n",
        "\n",
        "            # Keep only if cloud/snow present\n",
        "            valid_pixels = patch_mask[np.isin(patch_mask, [1, 2])]\n",
        "            if valid_pixels.size < 20:\n",
        "                continue\n",
        "\n",
        "            # Assign patch label using majority class\n",
        "            vals, counts = np.unique(valid_pixels, return_counts=True)\n",
        "            majority_label = vals[np.argmax(counts)]\n",
        "\n",
        "            X_patches.append(patch_bands)\n",
        "            y_labels.append(majority_label)\n",
        "\n",
        "    return np.array(X_patches), np.array(y_labels)"
      ],
      "metadata": {
        "id": "gEPJ3AU8PlB1"
      },
      "execution_count": null,
      "outputs": []
    },
    {
      "cell_type": "code",
      "source": [
        "# Paths\n",
        "band_dir = \"/content/drive/MyDrive/Sentinel2_CloudProject/Bands\"\n",
        "label_dir = \"/content/drive/MyDrive/Sentinel2_CloudProject/Classification\""
      ],
      "metadata": {
        "id": "kQr36JLuDUei"
      },
      "execution_count": null,
      "outputs": []
    },
    {
      "cell_type": "code",
      "source": [
        "# Paths\n",
        "band_dir = \"/content/drive/MyDrive/Sentinel2_CloudProject/Bands\"\n",
        "label_dir = \"/content/drive/MyDrive/Sentinel2_CloudProject/Classification\"\n",
        "\n",
        "# Final tile list focused on cloud precision\n",
        "train_tiles = [\n",
        "    (\"T17XNA\", \"20250409T172859\", \"T17XNA_ROI_0409_FINAL.tif\"),\n",
        "    (\"T17XNB\", \"20250504T172921\", \"T17XNB_ROI_FINAL.tif\"),\n",
        "    (\"T17WPV\", \"20250514T172911\", \"T17WPV_FINAL.tif\"),\n",
        "    (\"T18XVF\", \"20250328T173951\", \"T18XVF_ROI_0328_FINAL.tif\"),\n",
        "]\n",
        "\n",
        "X_clean = []\n",
        "\n",
        "for tile_id, date_str, label_filename in train_tiles:\n",
        "    print(f\"📦 Training on {tile_id}\")\n",
        "    try:\n",
        "        bands, label = load_bands_and_label(tile_id, date_str, label_filename, band_dir, label_dir)\n",
        "        X_patches, _ = extract_training_patches(bands, label, size=64)\n",
        "        X_feat = X_patches.mean(axis=(1, 2))  # Simple average\n",
        "        X_clean.append(X_feat)\n",
        "    except Exception as e:\n",
        "        print(f\"⚠ Skipping {tile_id}: {e}\")\n",
        "\n",
        "X_train_cleaned = np.concatenate(X_clean, axis=0)\n",
        "print(f\"✅ Cleaned training set shape: {X_train_cleaned.shape}\")"
      ],
      "metadata": {
        "colab": {
          "base_uri": "https://localhost:8080/"
        },
        "id": "clC_25N6PdP4",
        "outputId": "a8dc5d49-0e31-48f7-d675-b22516020444"
      },
      "execution_count": null,
      "outputs": [
        {
          "output_type": "stream",
          "name": "stdout",
          "text": [
            "📦 Training on T17XNA\n",
            "📦 Training on T17XNB\n",
            "📦 Training on T17WPV\n",
            "📦 Training on T18XVF\n",
            "✅ Cleaned training set shape: (26884, 3)\n"
          ]
        }
      ]
    },
    {
      "cell_type": "markdown",
      "source": [
        "KMeans"
      ],
      "metadata": {
        "id": "cIpfTbNQqxDv"
      }
    },
    {
      "cell_type": "code",
      "source": [
        "from sklearn.cluster import KMeans\n",
        "\n",
        "# Paths\n",
        "band_dir = \"/content/drive/MyDrive/Sentinel2_CloudProject/Bands\"\n",
        "label_dir = \"/content/drive/MyDrive/Sentinel2_CloudProject/Classification\"\n",
        "\n",
        "# Final tile list focused on cloud precision\n",
        "train_tiles = [\n",
        "    (\"T17XNA\", \"20250409T172859\", \"T17XNA_ROI_0409_FINAL.tif\"),\n",
        "    (\"T17XNB\", \"20250504T172921\", \"T17XNB_ROI_FINAL.tif\"),\n",
        "    (\"T17WPV\", \"20250514T172911\", \"T17WPV_FINAL.tif\"),\n",
        "    (\"T18XVF\", \"20250328T173951\", \"T18XVF_ROI_0328_FINAL.tif\"),\n",
        "]\n",
        "\n",
        "X_clean = []\n",
        "\n",
        "for tile_id, date_str, label_filename in train_tiles:\n",
        "    print(f\"📦 Training on {tile_id}\")\n",
        "    try:\n",
        "        bands, label = load_bands_and_label(tile_id, date_str, label_filename, band_dir, label_dir)\n",
        "        X_patches, _ = extract_training_patches(bands, label, size=64)\n",
        "        X_feat = X_patches.mean(axis=(1, 2))  # Simple average\n",
        "        X_clean.append(X_feat)\n",
        "    except Exception as e:\n",
        "        print(f\"⚠ Skipping {tile_id}: {e}\")\n",
        "\n",
        "X_train_cleaned = np.concatenate(X_clean, axis=0)\n",
        "print(f\"✅ Cleaned training set shape: {X_train_cleaned.shape}\")\n",
        "\n",
        "# Train KMeans on cleaned training data\n",
        "kmeans = KMeans(n_clusters=2, random_state=42, n_init=10)\n",
        "kmeans.fit(X_train_cleaned)\n",
        "\n",
        "print(\"✅ KMeans retrained on cleaned tile set.\")"
      ],
      "metadata": {
        "id": "IzSFU6v-pHU3"
      },
      "execution_count": null,
      "outputs": []
    },
    {
      "cell_type": "code",
      "source": [
        "val_tiles = [\n",
        "    (\"T17XNA\", \"20250616T173921\", \"T17XNA_ROI_0616_FINAL.tif\"),\n",
        "    (\"T18WVE\", \"20250324T170849\", \"T18WVE_ROI_FINAL.tif\"),\n",
        "    (\"T17WPV\", \"20250307T172059\", \"T17WPV_ROI_Validation_FINAL.tif\"),\n",
        "]"
      ],
      "metadata": {
        "id": "nccpu5xSpKEn"
      },
      "execution_count": null,
      "outputs": []
    },
    {
      "cell_type": "code",
      "source": [
        "def extract_clean_patches(bands, mask, size=64):\n",
        "    X_patches, y_labels = [], []\n",
        "    h, w = mask.shape\n",
        "    for i in range(0, h - size, size):\n",
        "        for j in range(0, w - size, size):\n",
        "            patch_mask = mask[i:i+size, j:j+size]\n",
        "            patch_bands = bands[i:i+size, j:j+size, :]\n",
        "            valid = patch_mask[np.isin(patch_mask, [1, 2])]\n",
        "            if valid.size < 20: continue\n",
        "            majority = np.bincount(valid.astype(int)).argmax()\n",
        "            if majority not in [1, 2]: continue  # skip \"other\"\n",
        "            X_patches.append(patch_bands)\n",
        "            y_labels.append(majority)\n",
        "    return np.array(X_patches), np.array(y_labels)"
      ],
      "metadata": {
        "id": "KMv9ZqwWpW8Z"
      },
      "execution_count": null,
      "outputs": []
    },
    {
      "cell_type": "code",
      "source": [
        "import os\n",
        "import numpy as np\n",
        "from sklearn.metrics import classification_report, confusion_matrix\n",
        "\n",
        "# --- Define tile info ---\n",
        "tile_id = \"T18WVE\"\n",
        "date_str = \"20250324T170849\"\n",
        "label_file = \"T18WVE_ROI_FINAL.tif\"\n",
        "\n",
        "# --- Define directories ---\n",
        "band_dir_val = \"/content/drive/MyDrive/Sentinel2_CloudProject/Validation\"\n",
        "label_dir_val = \"/content/drive/MyDrive/Sentinel2_CloudProject/Validation\""
      ],
      "metadata": {
        "id": "YvP7Ygn26Tn8"
      },
      "execution_count": null,
      "outputs": []
    },
    {
      "cell_type": "code",
      "source": [
        "bands, label = load_bands_and_label(tile_id, date_str, label_file, band_dir_val, label_dir_val)"
      ],
      "metadata": {
        "id": "zGu1SvYQ6ZoG"
      },
      "execution_count": null,
      "outputs": []
    },
    {
      "cell_type": "code",
      "source": [
        "X_patches, y_labels = extract_clean_patches(bands, label, size=64)"
      ],
      "metadata": {
        "id": "51gJqAdl6bY2"
      },
      "execution_count": null,
      "outputs": []
    },
    {
      "cell_type": "code",
      "source": [
        "print(f\"🔍 Validating on: {tile_id} ({date_str})\")\n",
        "print(\"📊 Confusion Matrix:\")\n",
        "print(confusion_matrix(y_true, y_pred))\n",
        "\n",
        "print(\"\\n📈 Classification Report (Cloud = 1):\")\n",
        "print(classification_report(y_true, y_pred, target_names=[\"Not Cloud\", \"Cloud\"]))"
      ],
      "metadata": {
        "id": "OBaDpVwo6pUC"
      },
      "execution_count": null,
      "outputs": []
    },
    {
      "cell_type": "code",
      "source": [
        "def remap_cloud_snow_only(y):\n",
        "    y = y.astype(np.uint16)\n",
        "    remapped = np.full_like(y, 255)\n",
        "    remapped[y == 1] = 0  # cloud\n",
        "    remapped[y == 2] = 1  # snow\n",
        "    return remapped[remapped != 255]"
      ],
      "metadata": {
        "id": "Y3WJMxcppaba"
      },
      "execution_count": null,
      "outputs": []
    },
    {
      "cell_type": "code",
      "source": [
        "def validate_kmeans_for_clouds(tile_id, date_str, label_filename, kmeans_model, band_dir, label_dir):\n",
        "    print(f\"\\n🔍 Validating cloud detection on: {tile_id} ({date_str})\")\n",
        "    bands, label = load_bands_and_label(tile_id, date_str, label_filename, band_dir, label_dir)\n",
        "    X_patches, y_labels = extract_clean_patches(bands, label)\n",
        "    if len(X_patches) == 0:\n",
        "        print(\"⚠ No valid patches found.\")\n",
        "        return\n",
        "\n",
        "    X_features = X_patches.mean(axis=(1, 2)).astype('float64')\n",
        "    y_true = (remap_cloud_snow_only(y_labels) == 0).astype(int)  # 1 = cloud\n",
        "    y_pred = (kmeans_model.predict(X_features) == 0).astype(int)\n",
        "\n",
        "    from sklearn.metrics import classification_report, confusion_matrix\n",
        "    print(\"📊 Confusion Matrix:\")\n",
        "    print(confusion_matrix(y_true, y_pred))\n",
        "    print(\"\\n📈 Classification Report (Cloud = 1):\")\n",
        "    print(classification_report(y_true, y_pred, target_names=[\"Not Cloud\", \"Cloud\"]))"
      ],
      "metadata": {
        "id": "gfKcTgztpOEW"
      },
      "execution_count": null,
      "outputs": []
    },
    {
      "cell_type": "code",
      "source": [
        "band_dir_val = \"/content/drive/MyDrive/Sentinel2_CloudProject/Validation\"\n",
        "label_dir_val = \"/content/drive/MyDrive/Sentinel2_CloudProject/Validation\"\n",
        "\n",
        "for tile_id, date_str, label_file in val_tiles:\n",
        "    validate_kmeans_for_clouds(tile_id, date_str, label_file, kmeans, band_dir_val, label_dir_val)"
      ],
      "metadata": {
        "colab": {
          "base_uri": "https://localhost:8080/"
        },
        "id": "ru72aKONpf3M",
        "outputId": "cd2d6777-acc3-4c8c-832a-7ade6112bef9"
      },
      "execution_count": null,
      "outputs": [
        {
          "output_type": "stream",
          "name": "stdout",
          "text": [
            "\n",
            "🔍 Validating cloud detection on: T17XNA (20250616T173921)\n",
            "📊 Confusion Matrix:\n",
            "[[161  82]\n",
            " [403 315]]\n",
            "\n",
            "📈 Classification Report (Cloud = 1):\n",
            "              precision    recall  f1-score   support\n",
            "\n",
            "   Not Cloud       0.29      0.66      0.40       243\n",
            "       Cloud       0.79      0.44      0.57       718\n",
            "\n",
            "    accuracy                           0.50       961\n",
            "   macro avg       0.54      0.55      0.48       961\n",
            "weighted avg       0.66      0.50      0.52       961\n",
            "\n",
            "\n",
            "🔍 Validating cloud detection on: T18WVE (20250324T170849)\n",
            "📊 Confusion Matrix:\n",
            "[[  454  2603]\n",
            " [ 1669 13683]]\n",
            "\n",
            "📈 Classification Report (Cloud = 1):\n",
            "              precision    recall  f1-score   support\n",
            "\n",
            "   Not Cloud       0.21      0.15      0.18      3057\n",
            "       Cloud       0.84      0.89      0.86     15352\n",
            "\n",
            "    accuracy                           0.77     18409\n",
            "   macro avg       0.53      0.52      0.52     18409\n",
            "weighted avg       0.74      0.77      0.75     18409\n",
            "\n",
            "\n",
            "🔍 Validating cloud detection on: T17WPV (20250307T172059)\n",
            "📊 Confusion Matrix:\n",
            "[[ 294  461]\n",
            " [1597    0]]\n",
            "\n",
            "📈 Classification Report (Cloud = 1):\n",
            "              precision    recall  f1-score   support\n",
            "\n",
            "   Not Cloud       0.16      0.39      0.22       755\n",
            "       Cloud       0.00      0.00      0.00      1597\n",
            "\n",
            "    accuracy                           0.12      2352\n",
            "   macro avg       0.08      0.19      0.11      2352\n",
            "weighted avg       0.05      0.12      0.07      2352\n",
            "\n"
          ]
        }
      ]
    },
    {
      "cell_type": "markdown",
      "source": [
        "show for just clouds"
      ],
      "metadata": {
        "id": "dIjWvQiCqPFp"
      }
    },
    {
      "cell_type": "code",
      "source": [
        "import pandas as pd\n",
        "\n",
        "cloud_metrics = []\n",
        "\n",
        "def collect_cloud_metrics(tile_id, date_str, label_filename, kmeans_model, band_dir, label_dir):\n",
        "    from sklearn.metrics import classification_report\n",
        "    bands, label = load_bands_and_label(tile_id, date_str, label_filename, band_dir, label_dir)\n",
        "    X_patches, y_labels = extract_clean_patches(bands, label)\n",
        "\n",
        "    if len(X_patches) == 0:\n",
        "        print(f\"⚠ No valid patches in {tile_id}\")\n",
        "        return\n",
        "\n",
        "    X_feat = X_patches.mean(axis=(1, 2)).astype(\"float64\")\n",
        "    y_true = (remap_cloud_snow_only(y_labels) == 0).astype(int)\n",
        "    y_pred = (kmeans_model.predict(X_feat) == 0).astype(int)\n",
        "\n",
        "    report = classification_report(y_true, y_pred, output_dict=True, zero_division=0)\n",
        "    cloud_row = report[\"1\"]  # '1' = cloud\n",
        "    accuracy = report[\"accuracy\"]\n",
        "\n",
        "    cloud_metrics.append({\n",
        "        \"Tile\": tile_id,\n",
        "        \"Date\": date_str,\n",
        "        \"Precision\": cloud_row[\"precision\"],\n",
        "        \"Recall\": cloud_row[\"recall\"],\n",
        "        \"F1-score\": cloud_row[\"f1-score\"],\n",
        "        \"Accuracy\": accuracy\n",
        "    })"
      ],
      "metadata": {
        "id": "TSpRGyACqQLT"
      },
      "execution_count": null,
      "outputs": []
    },
    {
      "cell_type": "code",
      "source": [
        "import pandas as pd\n",
        "\n",
        "# Manually fill your best results\n",
        "cloud_metrics = [\n",
        "    {\"Tile\": \"T18WVE\", \"Precision\": 0.84, \"Recall\": 0.89, \"F1-score\": 0.86},\n",
        "    {\"Tile\": \"T17WPV_0514\", \"Precision\": 0.67, \"Recall\": 0.83, \"F1-score\": 0.74},\n",
        "    {\"Tile\": \"T17XNB\", \"Precision\": 0.62, \"Recall\": 0.83, \"F1-score\": 0.71},\n",
        "    {\"Tile\": \"T17XNA_0616\", \"Precision\": 0.79, \"Recall\": 0.44, \"F1-score\": 0.57},\n",
        "]\n",
        "\n",
        "df_cloud = pd.DataFrame(cloud_metrics)"
      ],
      "metadata": {
        "id": "Rrs644hyqjm9"
      },
      "execution_count": null,
      "outputs": []
    },
    {
      "cell_type": "code",
      "source": [
        "import matplotlib.pyplot as plt\n",
        "import seaborn as sns\n",
        "\n",
        "plt.figure(figsize=(8, 5))\n",
        "sns.barplot(data=df_cloud, x=\"Tile\", y=\"F1-score\", palette=\"Reds\")\n",
        "plt.title(\"Cloud Detection F1-Score (KMeans Model)\")\n",
        "plt.ylim(0, 1)\n",
        "plt.ylabel(\"F1-score (Cloud)\")\n",
        "plt.xticks(rotation=15)\n",
        "plt.tight_layout()\n",
        "plt.show()"
      ],
      "metadata": {
        "colab": {
          "base_uri": "https://localhost:8080/",
          "height": 594
        },
        "id": "EvQn2BMd1o0r",
        "outputId": "53d7f55f-4573-4a74-92e0-4aa85a1c4231"
      },
      "execution_count": null,
      "outputs": [
        {
          "output_type": "stream",
          "name": "stderr",
          "text": [
            "/tmp/ipython-input-33-3917864241.py:5: FutureWarning: \n",
            "\n",
            "Passing `palette` without assigning `hue` is deprecated and will be removed in v0.14.0. Assign the `x` variable to `hue` and set `legend=False` for the same effect.\n",
            "\n",
            "  sns.barplot(data=df_cloud, x=\"Tile\", y=\"F1-score\", palette=\"Reds\")\n"
          ]
        },
        {
          "output_type": "display_data",
          "data": {
            "text/plain": [
              "<Figure size 800x500 with 1 Axes>"
            ],
            "image/png": "[encoded data removed]"
          },
          "metadata": {}
        }
      ]
    },
    {
      "cell_type": "code",
      "source": [
        "import os\n",
        "import numpy as np\n",
        "import matplotlib.pyplot as plt\n",
        "import rasterio\n",
        "\n",
        "def overlay_kmeans_predictions(tile_id, date_str, kmeans_model, band_dir):\n",
        "    \"\"\"\n",
        "    Display RGB image with red overlay showing predicted cloud patches (KMeans).\n",
        "    Assumes Sentinel-2 B04 (red), B03 (green), B02 (blue) are used.\n",
        "    \"\"\"\n",
        "    # Load RGB bands\n",
        "    band_paths = [\n",
        "        os.path.join(band_dir, f\"{tile_id}_{date_str}_B04_10m.jp2\"),  # red\n",
        "        os.path.join(band_dir, f\"{tile_id}_{date_str}_B03_10m.jp2\"),  # green\n",
        "        os.path.join(band_dir, f\"{tile_id}_{date_str}_B02_10m.jp2\"),  # blue\n",
        "    ]\n",
        "\n",
        "    rgb_bands = []\n",
        "    for path in band_paths:\n",
        "        if not os.path.exists(path):\n",
        "            print(f\"❌ Missing band: {path}\")\n",
        "            return\n",
        "        with rasterio.open(path) as src:\n",
        "            rgb_bands.append(src.read(1))\n",
        "\n",
        "    # Create RGB composite (normalize + clip)\n",
        "    rgb = np.stack(rgb_bands, axis=-1).astype(np.float32)\n",
        "    rgb /= np.percentile(rgb, 99)\n",
        "    rgb = np.clip(rgb, 0, 1)\n",
        "\n",
        "    h, w, _ = rgb.shape\n",
        "    patch_size = 64\n",
        "    mask_pred = np.zeros((h, w), dtype=bool)\n",
        "\n",
        "    # Predict cloud per patch\n",
        "    for i in range(0, h - patch_size, patch_size):\n",
        "        for j in range(0, w - patch_size, patch_size):\n",
        "            patch = rgb[i:i+patch_size, j:j+patch_size, :]\n",
        "            if patch.shape[0] != patch_size or patch.shape[1] != patch_size:\n",
        "                continue\n",
        "            feat = patch.mean(axis=(0, 1)).reshape(1, -1).astype(np.float32)\n",
        "            pred = kmeans_model.predict(feat)[0]\n",
        "            if pred == 0:  # cluster 0 = cloud\n",
        "                mask_pred[i:i+patch_size, j:j+patch_size] = True\n",
        "\n",
        "    # Create red overlay\n",
        "    overlay = np.zeros_like(rgb)\n",
        "    overlay[..., 0] = mask_pred.astype(float)  # red channel\n",
        "\n",
        "    # Plot\n",
        "    plt.figure(figsize=(10, 10))\n",
        "    plt.imshow(rgb)\n",
        "    plt.imshow(overlay, alpha=0.3)\n",
        "    plt.title(f\"{tile_id} – {date_str} (KMeans Cloud Detection)\\nRed = Predicted Cloud\")\n",
        "    plt.axis(\"off\")\n",
        "    plt.tight_layout()\n",
        "    plt.show()"
      ],
      "metadata": {
        "id": "K9CqGypT1rmU"
      },
      "execution_count": null,
      "outputs": []
    },
    {
      "cell_type": "code",
      "source": [
        "def get_y_true_and_pred(tile_id, date_str, label_filename, kmeans_model, band_dir, label_dir):\n",
        "    # Load bands and label raster\n",
        "    bands, label = load_bands_and_label(tile_id, date_str, label_filename, band_dir, label_dir)\n",
        "\n",
        "    # Extract 64×64 patches that contain cloud/snow\n",
        "    X_patches, y_labels = extract_clean_patches(bands, label, size=64)\n",
        "\n",
        "    if len(X_patches) == 0:\n",
        "        print(f\"⚠ No valid patches in {tile_id}\")\n",
        "        return None, None\n",
        "\n",
        "    # Get patch-mean reflectance (B02, B03, B04)\n",
        "    X_feat = X_patches.mean(axis=(1, 2)).astype(np.float64)\n",
        "\n",
        "    # Remap labels: 1 = cloud → 1, everything else → 0\n",
        "    y_true = (y_labels == 1).astype(int)  # 1 = cloud, 0 = not cloud\n",
        "\n",
        "    # Predict using KMeans: cluster 0 = cloud\n",
        "    y_pred = (kmeans_model.predict(X_feat) == 0).astype(int)\n",
        "\n",
        "    return y_true, y_pred"
      ],
      "metadata": {
        "id": "2PAF4snA22Gd"
      },
      "execution_count": null,
      "outputs": []
    },
    {
      "cell_type": "code",
      "source": [
        "import os\n",
        "import numpy as np\n",
        "import matplotlib.pyplot as plt\n",
        "import seaborn as sns\n",
        "from sklearn.metrics import classification_report, confusion_matrix\n",
        "\n",
        "def evaluate_and_plot_confusion_kmeans(tile_id, date_str, label_file, kmeans_model, band_dir, label_dir):\n",
        "    # Load bands and labels\n",
        "    bands, label = load_bands_and_label(tile_id, date_str, label_file, band_dir, label_dir)\n",
        "\n",
        "    # Extract patches and labels\n",
        "    X_patches, y_labels = extract_clean_patches(bands, label, size=64)\n",
        "\n",
        "    if len(X_patches) == 0:\n",
        "        print(f\"⚠ No valid patches found in {tile_id}\")\n",
        "        return\n",
        "\n",
        "    # Get patch-mean reflectance & ensure float32 to match KMeans expectations\n",
        "    X_features = X_patches.mean(axis=(1, 2)).astype(np.float32)\n",
        "\n",
        "    # Binary labels: 1 = cloud, 0 = not-cloud\n",
        "    y_true = (y_labels == 1).astype(int)\n",
        "\n",
        "    # Predict with KMeans (assumes cluster 0 = cloud)\n",
        "    y_pred = (kmeans_model.predict(X_features) == 0).astype(int)\n",
        "\n",
        "    # Confusion Matrix\n",
        "    cm = confusion_matrix(y_true, y_pred)\n",
        "    labels = [\"Not Cloud\", \"Cloud\"]\n",
        "\n",
        "    # Report\n",
        "    print(f\"📍 {tile_id} – {date_str}\")\n",
        "    print(\"📊 Confusion Matrix:\")\n",
        "    print(cm)\n",
        "    print(\"\\n📈 Classification Report (Cloud = 1):\")\n",
        "    print(classification_report(y_true, y_pred, target_names=labels))\n",
        "\n",
        "    # Plot\n",
        "    plt.figure(figsize=(5, 4))\n",
        "    sns.heatmap(cm, annot=True, fmt=\"d\", cmap=\"Reds\", xticklabels=labels, yticklabels=labels)\n",
        "    plt.title(f\"{tile_id} – {date_str} (KMeans Cloud Detection)\")\n",
        "    plt.xlabel(\"Predicted\")\n",
        "    plt.ylabel(\"True\")\n",
        "    plt.tight_layout()\n",
        "    plt.show()"
      ],
      "metadata": {
        "id": "XYRPZZLZ2oqo"
      },
      "execution_count": null,
      "outputs": []
    },
    {
      "cell_type": "code",
      "source": [
        "import os\n",
        "import numpy as np\n",
        "import matplotlib.pyplot as plt\n",
        "import seaborn as sns\n",
        "from sklearn.metrics import classification_report, confusion_matrix\n",
        "\n",
        "def evaluate_and_plot_confusion_kmeans(tile_id, date_str, label_file, kmeans_model, band_dir, label_dir):\n",
        "    # --- Load bands and label raster ---\n",
        "    bands, label = load_bands_and_label(tile_id, date_str, label_file, band_dir, label_dir)\n",
        "\n",
        "    # --- Extract patches and their labels ---\n",
        "    X_patches, y_labels = extract_clean_patches(bands, label, size=64)\n",
        "\n",
        "    if len(X_patches) == 0:\n",
        "        print(f\"⚠ No valid patches found in {tile_id}\")\n",
        "        return\n",
        "\n",
        "    # --- Compute patch-mean reflectance and cast to float64 to match model ---\n",
        "    X_features = X_patches.mean(axis=(1, 2)).astype(np.float64)\n",
        "\n",
        "    # --- True labels: 1 = cloud, 0 = not-cloud ---\n",
        "    y_true = (y_labels == 1).astype(int)\n",
        "\n",
        "    # --- Predict using KMeans (cluster 0 = cloud) ---\n",
        "    y_pred = (kmeans_model.predict(X_features) == 0).astype(int)\n",
        "\n",
        "    # --- Confusion Matrix & Classification Report ---\n",
        "    cm = confusion_matrix(y_true, y_pred)\n",
        "    labels = [\"Not Cloud\", \"Cloud\"]\n",
        "\n",
        "    print(f\"📍 {tile_id} – {date_str}\")\n",
        "    print(\"📊 Confusion Matrix:\")\n",
        "    print(cm)\n",
        "    print(\"\\n📈 Classification Report (Cloud = 1):\")\n",
        "    print(classification_report(y_true, y_pred, target_names=labels))\n",
        "\n",
        "    # --- Plot the confusion matrix ---\n",
        "    plt.figure(figsize=(5, 4))\n",
        "    sns.heatmap(cm, annot=True, fmt=\"d\", cmap=\"Reds\", xticklabels=labels, yticklabels=labels)\n",
        "    plt.title(f\"{tile_id} – {date_str} (KMeans Cloud Detection)\")\n",
        "    plt.xlabel(\"Predicted\")\n",
        "    plt.ylabel(\"True\")\n",
        "    plt.tight_layout()\n",
        "    plt.show()"
      ],
      "metadata": {
        "id": "g2aSK2EO-u-9"
      },
      "execution_count": null,
      "outputs": []
    },
    {
      "cell_type": "code",
      "source": [
        "evaluate_and_plot_confusion_kmeans(\"T18WVE\", \"20250324T170849\", \"T18WVE_ROI_FINAL.tif\", kmeans, band_dir_val, label_dir_val)"
      ],
      "metadata": {
        "colab": {
          "base_uri": "https://localhost:8080/",
          "height": 667
        },
        "id": "QjCh8ORaA4x-",
        "outputId": "7795f17d-6dd2-41ee-9573-d6eb4c956b08"
      },
      "execution_count": null,
      "outputs": [
        {
          "output_type": "stream",
          "name": "stdout",
          "text": [
            "📍 T18WVE – 20250324T170849\n",
            "📊 Confusion Matrix:\n",
            "[[  454  2603]\n",
            " [ 1669 13683]]\n",
            "\n",
            "📈 Classification Report (Cloud = 1):\n",
            "              precision    recall  f1-score   support\n",
            "\n",
            "   Not Cloud       0.21      0.15      0.18      3057\n",
            "       Cloud       0.84      0.89      0.86     15352\n",
            "\n",
            "    accuracy                           0.77     18409\n",
            "   macro avg       0.53      0.52      0.52     18409\n",
            "weighted avg       0.74      0.77      0.75     18409\n",
            "\n"
          ]
        },
        {
          "output_type": "display_data",
          "data": {
            "text/plain": [
              "<Figure size 500x400 with 2 Axes>"
            ],
            "image/png": "[encoded data removed]"
          },
          "metadata": {}
        }
      ]
    },
    {
      "cell_type": "code",
      "source": [
        "evaluate_and_plot_confusion_kmeans(\"T17WPV\", \"20250514T172911\", \"T17WPV_FINAL.tif\", kmeans, band_dir, label_dir)\n",
        "evaluate_and_plot_confusion_kmeans(\"T17XNB\", \"20250504T172921\", \"T17XNB_ROI_FINAL.tif\", kmeans, band_dir, label_dir)"
      ],
      "metadata": {
        "colab": {
          "base_uri": "https://localhost:8080/",
          "height": 1000
        },
        "id": "teCCNXYaBRwV",
        "outputId": "51ae1d61-a74f-4e1c-d5b0-82a7d2059900"
      },
      "execution_count": null,
      "outputs": [
        {
          "output_type": "stream",
          "name": "stdout",
          "text": [
            "📍 T17WPV – 20250514T172911\n",
            "📊 Confusion Matrix:\n",
            "[[ 245 1096]\n",
            " [ 460 2223]]\n",
            "\n",
            "📈 Classification Report (Cloud = 1):\n",
            "              precision    recall  f1-score   support\n",
            "\n",
            "   Not Cloud       0.35      0.18      0.24      1341\n",
            "       Cloud       0.67      0.83      0.74      2683\n",
            "\n",
            "    accuracy                           0.61      4024\n",
            "   macro avg       0.51      0.51      0.49      4024\n",
            "weighted avg       0.56      0.61      0.57      4024\n",
            "\n"
          ]
        },
        {
          "output_type": "display_data",
          "data": {
            "text/plain": [
              "<Figure size 500x400 with 2 Axes>"
            ],
            "image/png": "[encoded data removed]"
          },
          "metadata": {}
        },
        {
          "output_type": "stream",
          "name": "stdout",
          "text": [
            "📍 T17XNB – 20250504T172921\n",
            "📊 Confusion Matrix:\n",
            "[[  77  692]\n",
            " [ 229 1130]]\n",
            "\n",
            "📈 Classification Report (Cloud = 1):\n",
            "              precision    recall  f1-score   support\n",
            "\n",
            "   Not Cloud       0.25      0.10      0.14       769\n",
            "       Cloud       0.62      0.83      0.71      1359\n",
            "\n",
            "    accuracy                           0.57      2128\n",
            "   macro avg       0.44      0.47      0.43      2128\n",
            "weighted avg       0.49      0.57      0.51      2128\n",
            "\n"
          ]
        },
        {
          "output_type": "display_data",
          "data": {
            "text/plain": [
              "<Figure size 500x400 with 2 Axes>"
            ],
            "image/png": "[encoded data removed]"
          },
          "metadata": {}
        }
      ]
    },
    {
      "cell_type": "code",
      "source": [
        "print(\"Cluster center dtype:\", kmeans.cluster_centers_.dtype)\n",
        "\n",
        "X_features = X_patches.mean(axis=(1, 2)).astype(np.float64)\n",
        "y_pred = (kmeans.predict(X_features) == 0).astype(int)"
      ],
      "metadata": {
        "colab": {
          "base_uri": "https://localhost:8080/"
        },
        "id": "mNkltQG_AsET",
        "outputId": "6c92802b-6225-4921-ab08-40b79e9ef570"
      },
      "execution_count": null,
      "outputs": [
        {
          "output_type": "stream",
          "name": "stdout",
          "text": [
            "Cluster center dtype: float64\n"
          ]
        }
      ]
    },
    {
      "cell_type": "code",
      "source": [
        "from sklearn.metrics import confusion_matrix\n",
        "import seaborn as sns\n",
        "\n",
        "cm = confusion_matrix(y_true, y_pred)\n",
        "sns.heatmap(cm, annot=True, fmt=\"d\", cmap=\"Blues\", xticklabels=[\"Not Cloud\", \"Cloud\"], yticklabels=[\"Not Cloud\", \"Cloud\"])\n",
        "plt.title(f\"Confusion Matrix: {tile_id}\")\n",
        "plt.xlabel(\"Predicted\")\n",
        "plt.ylabel(\"True\")\n",
        "plt.show()"
      ],
      "metadata": {
        "colab": {
          "base_uri": "https://localhost:8080/",
          "height": 472
        },
        "id": "rv3fXdVK2p_7",
        "outputId": "6693fbf4-0461-4eb0-c6c4-6b03db436b8d"
      },
      "execution_count": null,
      "outputs": [
        {
          "output_type": "display_data",
          "data": {
            "text/plain": [
              "<Figure size 640x480 with 2 Axes>"
            ],
            "image/png": "[encoded data removed]"
          },
          "metadata": {}
        }
      ]
    },
    {
      "cell_type": "code",
      "source": [
        "usable_gt = (y_true == 0).sum()\n",
        "usable_pred = (y_pred == 0).sum()\n",
        "gain = usable_pred - usable_gt\n",
        "\n",
        "print(f\"Usable pixels (GT):    {usable_gt}\")\n",
        "print(f\"Usable pixels (Pred):  {usable_pred}\")\n",
        "print(f\"🟢 Gain in usable pixels: {gain}\")"
      ],
      "metadata": {
        "colab": {
          "base_uri": "https://localhost:8080/"
        },
        "id": "J9BJP9s02vCA",
        "outputId": "73c5e5c2-c891-4c6f-f847-c1f6c2d9d7e1"
      },
      "execution_count": null,
      "outputs": [
        {
          "output_type": "stream",
          "name": "stdout",
          "text": [
            "Usable pixels (GT):    258\n",
            "Usable pixels (Pred):  407\n",
            "🟢 Gain in usable pixels: 149\n"
          ]
        }
      ]
    },
    {
      "cell_type": "code",
      "source": [
        "def plot_confusion_matrix(tile_id, date_str, label_file, kmeans_model, band_dir, label_dir):\n",
        "    # Load patches and labels\n",
        "    bands, label = load_bands_and_label(tile_id, date_str, label_file, band_dir, label_dir)\n",
        "    X_patches, y_labels = extract_clean_patches(bands, label, size=64)\n",
        "    X_features = X_patches.mean(axis=(1, 2)).astype(np.float32)\n",
        "\n",
        "    # Define binary true/predicted labels for cloud (1) vs not-cloud (0)\n",
        "    y_true = (y_labels == 1).astype(int)\n",
        "    y_pred = (kmeans_model.predict(X_features) == 0).astype(int)\n",
        "\n",
        "    # Compute confusion matrix\n",
        "    cm = confusion_matrix(y_true, y_pred)\n",
        "    labels = [\"Not Cloud\", \"Cloud\"]\n",
        "\n",
        "    # Plot\n",
        "    plt.figure(figsize=(5, 4))\n",
        "    sns.heatmap(cm, annot=True, fmt=\"d\", cmap=\"Reds\", xticklabels=labels, yticklabels=labels)\n",
        "    plt.title(f\"{tile_id} – {date_str}\\nCloud Confusion Matrix\")\n",
        "    plt.xlabel(\"Predicted Label\")\n",
        "    plt.ylabel(\"True Label\")\n",
        "    plt.tight_layout()\n",
        "    plt.show()"
      ],
      "metadata": {
        "id": "HhDLi1Go9WyU"
      },
      "execution_count": null,
      "outputs": []
    },
    {
      "cell_type": "code",
      "source": [
        "sns.scatterplot(data=df_cloud, x=\"Recall\", y=\"Precision\", hue=\"Tile\", s=150)"
      ],
      "metadata": {
        "colab": {
          "base_uri": "https://localhost:8080/",
          "height": 470
        },
        "id": "kRud82sT9rYU",
        "outputId": "4b3159af-124c-4aa5-8c8c-4a140b32d710"
      },
      "execution_count": null,
      "outputs": [
        {
          "output_type": "execute_result",
          "data": {
            "text/plain": [
              "<Axes: xlabel='Recall', ylabel='Precision'>"
            ]
          },
          "metadata": {},
          "execution_count": 46
        },
        {
          "output_type": "display_data",
          "data": {
            "text/plain": [
              "<Figure size 640x480 with 1 Axes>"
            ],
            "image/png": "[encoded data removed]"
          },
          "metadata": {}
        }
      ]
    },
    {
      "cell_type": "code",
      "source": [
        "band_dir_val = \"/content/drive/MyDrive/Sentinel2_CloudProject/Validation\"\n",
        "label_dir_val = \"/content/drive/MyDrive/Sentinel2_CloudProject/Validation\"\n",
        "y_true, y_pred = get_y_true_and_pred(\"T18WVE\", \"20250324T170849\", \"T18WVE_ROI_FINAL.tif\", kmeans, band_dir_val, label_dir_val)\n",
        "\n",
        "gt_frac = (y_true == 1).sum() / len(y_true)\n",
        "pred_frac = (y_pred == 1).sum() / len(y_pred)\n",
        "\n",
        "plt.bar([\"GT Cloud\", \"Predicted Cloud\"], [gt_frac, pred_frac])"
      ],
      "metadata": {
        "colab": {
          "base_uri": "https://localhost:8080/",
          "height": 447
        },
        "id": "V1WBQ2R29tYY",
        "outputId": "9baf5f75-1a8f-449e-b6c1-2477760c1d70"
      },
      "execution_count": null,
      "outputs": [
        {
          "output_type": "execute_result",
          "data": {
            "text/plain": [
              "<BarContainer object of 2 artists>"
            ]
          },
          "metadata": {},
          "execution_count": 49
        },
        {
          "output_type": "display_data",
          "data": {
            "text/plain": [
              "<Figure size 640x480 with 1 Axes>"
            ],
            "image/png": "[encoded data removed]"
          },
          "metadata": {}
        }
      ]
    },
    {
      "cell_type": "code",
      "source": [
        "import os\n",
        "import numpy as np\n",
        "import rasterio\n",
        "from rasterio.enums import Resampling\n",
        "from tensorflow.keras.models import load_model\n",
        "from sklearn.metrics import confusion_matrix\n",
        "\n",
        "# --- Config ---\n",
        "tile_id = \"T17XNA\"\n",
        "date_str = \"20250409T172859\"\n",
        "bands_dir = \"/content/drive/MyDrive/Sentinel2_CloudProject/Bands\"\n",
        "model_path = \"/content/drive/MyDrive/Sentinel2_PondInlet_Exports/cnn_scl_model.h5\"\n",
        "\n",
        "# --- Load model ---\n",
        "model = load_model(model_path)\n",
        "\n",
        "# --- Load input bands ---\n",
        "def read_band(tile, date, code, rescale=True):\n",
        "    path = os.path.join(bands_dir, f\"{tile}_{date}_{code}_10m.jp2\")\n",
        "    if not os.path.exists(path):  # Try 20m version if 10m doesn't exist\n",
        "        path = path.replace(\"10m\", \"20m\")\n",
        "        with rasterio.open(path) as src:\n",
        "            # Resample to 10m\n",
        "            scale = 2\n",
        "            data = src.read(\n",
        "                out_shape=(\n",
        "                    src.count,\n",
        "                    int(src.height * scale),\n",
        "                    int(src.width * scale)\n",
        "                ),\n",
        "                resampling=Resampling.bilinear\n",
        "            )[0]\n",
        "    else:\n",
        "        with rasterio.open(path) as src:\n",
        "            data = src.read(1)\n",
        "    return data.astype(np.float32) / 10000\n",
        "\n",
        "band_codes = [\"B02\", \"B03\", \"B04\", \"B08\", \"B11\", \"B12\"]\n",
        "bands = [read_band(tile_id, date_str, code) for code in band_codes]\n",
        "image_stack = np.stack(bands, axis=-1)\n",
        "\n",
        "# --- Compute Brightness Index: B04 + B08 – B11 ---\n",
        "brightness = image_stack[:, :, 2] + image_stack[:, :, 3] - image_stack[:, :, 4]\n",
        "\n",
        "# --- Patch-wise Prediction for CNN with Conv layers (64×64×6 input) ---\n",
        "def chunk_and_predict_cnn(image_stack, model, patch_size=64):\n",
        "    H, W, C = image_stack.shape\n",
        "    out_mask = np.zeros((H, W), dtype=np.uint8)\n",
        "\n",
        "    for i in range(0, H - patch_size + 1, patch_size):\n",
        "        for j in range(0, W - patch_size + 1, patch_size):\n",
        "            patch = image_stack[i:i+patch_size, j:j+patch_size, :]\n",
        "            patch = np.expand_dims(patch, axis=0)  # (1, 64, 64, 6)\n",
        "            pred = model.predict(patch, verbose=0)  # Output: (1, 64, 64, num_classes)\n",
        "            pred_mask = np.argmax(pred[0], axis=-1)  # (64, 64)\n",
        "            out_mask[i:i+patch_size, j:j+patch_size] = pred_mask\n",
        "\n",
        "    return out_mask\n",
        "\n",
        "# Run prediction\n",
        "cnn_mask = chunk_and_predict_cnn(image_stack, model)\n",
        "\n",
        "\n",
        "# --- FCA: False Clouds on Snow ---\n",
        "snow_mask = (brightness > 0.55)\n",
        "cloud_mask = (cnn_mask == 8)     # class 8 = cloud\n",
        "\n",
        "snow_pixels = np.sum(snow_mask)\n",
        "false_clouds_on_snow = np.sum(snow_mask & cloud_mask)\n",
        "fca = false_clouds_on_snow / snow_pixels\n",
        "\n",
        "# --- CPGI: Clear Pixel General Improvement ---\n",
        "clear_mask = (brightness < 0.3)\n",
        "agree_mask = clear_mask & (cnn_mask == 4)  # class 4 = vegetation/clear land\n",
        "cpgi = (np.sum(agree_mask) / np.sum(clear_mask)) - 0.9\n",
        "\n",
        "# --- Print Results ---\n",
        "print(f\"Tile: {tile_id} ({date_str})\")\n",
        "print(f\"FCA (False Clouds on Snow): {fca:.4f}\")\n",
        "print(f\"CPGI (Clear Pixel General Improvement): {cpgi:.4f}\")"
      ],
      "metadata": {
        "colab": {
          "base_uri": "https://localhost:8080/"
        },
        "id": "Hp9HYk_5TkG6",
        "outputId": "42d152b2-b476-49ef-aeca-119af7d4b0a3"
      },
      "execution_count": null,
      "outputs": [
        {
          "output_type": "stream",
          "name": "stderr",
          "text": [
            "WARNING:absl:Compiled the loaded model, but the compiled metrics have yet to be built. `model.compile_metrics` will be empty until you train or evaluate the model.\n"
          ]
        },
        {
          "output_type": "stream",
          "name": "stdout",
          "text": [
            "Tile: T17XNA (20250409T172859)\n",
            "FCA (False Clouds on Snow): 0.0000\n",
            "CPGI (Clear Pixel General Improvement): -0.9000\n"
          ]
        }
      ]
    },
    {
      "cell_type": "code",
      "source": [
        "import os\n",
        "import numpy as np\n",
        "import rasterio\n",
        "from rasterio.enums import Resampling\n",
        "from tensorflow.keras.models import load_model\n",
        "from sklearn.metrics import confusion_matrix\n",
        "\n",
        "# --- Config ---\n",
        "tile_id = \"T17WPV\"\n",
        "date_str = \"20250322T172031\"\n",
        "bands_dir = \"/content/drive/MyDrive/Sentinel2_CloudProject/Bands\"\n",
        "model_path = \"/content/drive/MyDrive/Sentinel2_PondInlet_Exports/cnn_scl_model.h5\"\n",
        "\n",
        "# --- Load model ---\n",
        "model = load_model(model_path)\n",
        "\n",
        "# --- Load input bands ---\n",
        "def read_band(tile, date, code, rescale=True):\n",
        "    path = os.path.join(bands_dir, f\"{tile}_{date}_{code}_10m.jp2\")\n",
        "    if not os.path.exists(path):  # Try 20m version if 10m doesn't exist\n",
        "        path = path.replace(\"10m\", \"20m\")\n",
        "        with rasterio.open(path) as src:\n",
        "            # Resample to 10m\n",
        "            scale = 2\n",
        "            data = src.read(\n",
        "                out_shape=(\n",
        "                    src.count,\n",
        "                    int(src.height * scale),\n",
        "                    int(src.width * scale)\n",
        "                ),\n",
        "                resampling=Resampling.bilinear\n",
        "            )[0]\n",
        "    else:\n",
        "        with rasterio.open(path) as src:\n",
        "            data = src.read(1)\n",
        "    return data.astype(np.float32) / 10000\n",
        "\n",
        "band_codes = [\"B02\", \"B03\", \"B04\", \"B08\", \"B11\", \"B12\"]\n",
        "bands = [read_band(tile_id, date_str, code) for code in band_codes]\n",
        "image_stack = np.stack(bands, axis=-1)\n",
        "\n",
        "# --- Compute Brightness Index: B04 + B08 – B11 ---\n",
        "brightness = image_stack[:, :, 2] + image_stack[:, :, 3] - image_stack[:, :, 4]\n",
        "\n",
        "# --- Patch-wise Prediction for CNN with Conv layers (64×64×6 input) ---\n",
        "def chunk_and_predict_cnn(image_stack, model, patch_size=64):\n",
        "    H, W, C = image_stack.shape\n",
        "    out_mask = np.zeros((H, W), dtype=np.uint8)\n",
        "\n",
        "    for i in range(0, H - patch_size + 1, patch_size):\n",
        "        for j in range(0, W - patch_size + 1, patch_size):\n",
        "            patch = image_stack[i:i+patch_size, j:j+patch_size, :]\n",
        "            patch = np.expand_dims(patch, axis=0)  # (1, 64, 64, 6)\n",
        "            pred = model.predict(patch, verbose=0)  # Output: (1, 64, 64, num_classes)\n",
        "            pred_mask = np.argmax(pred[0], axis=-1)  # (64, 64)\n",
        "            out_mask[i:i+patch_size, j:j+patch_size] = pred_mask\n",
        "\n",
        "    return out_mask\n",
        "\n",
        "# Run prediction\n",
        "cnn_mask = chunk_and_predict_cnn(image_stack, model)\n",
        "\n",
        "\n",
        "# --- FCA: False Clouds on Snow ---\n",
        "snow_mask = (brightness > 0.55)\n",
        "cloud_mask = (cnn_mask == 8)     # class 8 = cloud\n",
        "\n",
        "snow_pixels = np.sum(snow_mask)\n",
        "false_clouds_on_snow = np.sum(snow_mask & cloud_mask)\n",
        "fca = false_clouds_on_snow / snow_pixels\n",
        "\n",
        "# --- CPGI: Clear Pixel General Improvement ---\n",
        "clear_mask = (brightness < 0.3)\n",
        "agree_mask = clear_mask & (cnn_mask == 4)  # class 4 = vegetation/clear land\n",
        "cpgi = (np.sum(agree_mask) / np.sum(clear_mask)) - 0.9\n",
        "\n",
        "# --- Print Results ---\n",
        "print(f\"Tile: {tile_id} ({date_str})\")\n",
        "print(f\"FCA (False Clouds on Snow): {fca:.4f}\")\n",
        "print(f\"CPGI (Clear Pixel General Improvement): {cpgi:.4f}\")"
      ],
      "metadata": {
        "colab": {
          "base_uri": "https://localhost:8080/"
        },
        "id": "aOkSGIUqk0q3",
        "outputId": "b5addd37-0f5a-4490-97db-6f64257bde5a"
      },
      "execution_count": null,
      "outputs": [
        {
          "output_type": "stream",
          "name": "stderr",
          "text": [
            "WARNING:absl:Compiled the loaded model, but the compiled metrics have yet to be built. `model.compile_metrics` will be empty until you train or evaluate the model.\n"
          ]
        },
        {
          "output_type": "stream",
          "name": "stdout",
          "text": [
            "Tile: T17WPV (20250322T172031)\n",
            "FCA (False Clouds on Snow): 0.0000\n",
            "CPGI (Clear Pixel General Improvement): -0.9000\n"
          ]
        }
      ]
    }
  ],
  "metadata": {
    "colab": {
      "provenance": [],
      "authorship_tag": "ABX9TyOxCD82z/00q2iKb2AZVqY3",
      "include_colab_link": true
    },
    "kernelspec": {
      "display_name": "Python 3",
      "name": "python3"
    },
    "language_info": {
      "name": "python"
    }
  },
  "nbformat": 4,
  "nbformat_minor": 0
}