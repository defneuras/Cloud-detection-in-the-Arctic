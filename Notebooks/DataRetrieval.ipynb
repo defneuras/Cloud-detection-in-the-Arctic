{
  "nbformat": 4,
  "nbformat_minor": 0,
  "metadata": {
    "colab": {
      "provenance": [],
      "authorship_tag": "ABX9TyMSFhmp6FbLi5o/KbZEhx2r",
      "include_colab_link": true
    },
    "kernelspec": {
      "name": "python3",
      "display_name": "Python 3"
    },
    "language_info": {
      "name": "python"
    }
  },
  "cells": [
    {
      "cell_type": "markdown",
      "metadata": {
        "id": "view-in-github",
        "colab_type": "text"
      },
      "source": [
        "<a href=\"https://colab.research.google.com/github/defneuras/Cloud-detection-in-the-Arctic/blob/main/DataRetrieval.ipynb\" target=\"_parent\"><img src=\"https://colab.research.google.com/assets/colab-badge.svg\" alt=\"Open In Colab\"/></a>"
      ]
    },
    {
      "cell_type": "code",
      "execution_count": null,
      "metadata": {
        "colab": {
          "base_uri": "https://localhost:8080/"
        },
        "collapsed": true,
        "id": "FKCHwIgPRa5n",
        "outputId": "43416024-3232-40ba-982d-bf51a22128fc"
      },
      "outputs": [
        {
          "output_type": "stream",
          "name": "stdout",
          "text": [
            "Requirement already satisfied: earthengine-api in /usr/local/lib/python3.11/dist-packages (1.5.24)\n",
            "Requirement already satisfied: google-cloud-storage in /usr/local/lib/python3.11/dist-packages (from earthengine-api) (2.19.0)\n",
            "Requirement already satisfied: google-api-python-client>=1.12.1 in /usr/local/lib/python3.11/dist-packages (from earthengine-api) (2.177.0)\n",
            "Requirement already satisfied: google-auth>=1.4.1 in /usr/local/lib/python3.11/dist-packages (from earthengine-api) (2.38.0)\n",
            "Requirement already satisfied: google-auth-httplib2>=0.0.3 in /usr/local/lib/python3.11/dist-packages (from earthengine-api) (0.2.0)\n",
            "Requirement already satisfied: httplib2<1dev,>=0.9.2 in /usr/local/lib/python3.11/dist-packages (from earthengine-api) (0.22.0)\n",
            "Requirement already satisfied: requests in /usr/local/lib/python3.11/dist-packages (from earthengine-api) (2.32.3)\n",
            "Requirement already satisfied: google-api-core!=2.0.*,!=2.1.*,!=2.2.*,!=2.3.0,<3.0.0,>=1.31.5 in /usr/local/lib/python3.11/dist-packages (from google-api-python-client>=1.12.1->earthengine-api) (2.25.1)\n",
            "Requirement already satisfied: uritemplate<5,>=3.0.1 in /usr/local/lib/python3.11/dist-packages (from google-api-python-client>=1.12.1->earthengine-api) (4.2.0)\n",
            "Requirement already satisfied: cachetools<6.0,>=2.0.0 in /usr/local/lib/python3.11/dist-packages (from google-auth>=1.4.1->earthengine-api) (5.5.2)\n",
            "Requirement already satisfied: pyasn1-modules>=0.2.1 in /usr/local/lib/python3.11/dist-packages (from google-auth>=1.4.1->earthengine-api) (0.4.2)\n",
            "Requirement already satisfied: rsa<5,>=3.1.4 in /usr/local/lib/python3.11/dist-packages (from google-auth>=1.4.1->earthengine-api) (4.9.1)\n",
            "Requirement already satisfied: pyparsing!=3.0.0,!=3.0.1,!=3.0.2,!=3.0.3,<4,>=2.4.2 in /usr/local/lib/python3.11/dist-packages (from httplib2<1dev,>=0.9.2->earthengine-api) (3.2.3)\n",
            "Requirement already satisfied: google-cloud-core<3.0dev,>=2.3.0 in /usr/local/lib/python3.11/dist-packages (from google-cloud-storage->earthengine-api) (2.4.3)\n",
            "Requirement already satisfied: google-resumable-media>=2.7.2 in /usr/local/lib/python3.11/dist-packages (from google-cloud-storage->earthengine-api) (2.7.2)\n",
            "Requirement already satisfied: google-crc32c<2.0dev,>=1.0 in /usr/local/lib/python3.11/dist-packages (from google-cloud-storage->earthengine-api) (1.7.1)\n",
            "Requirement already satisfied: charset-normalizer<4,>=2 in /usr/local/lib/python3.11/dist-packages (from requests->earthengine-api) (3.4.2)\n",
            "Requirement already satisfied: idna<4,>=2.5 in /usr/local/lib/python3.11/dist-packages (from requests->earthengine-api) (3.10)\n",
            "Requirement already satisfied: urllib3<3,>=1.21.1 in /usr/local/lib/python3.11/dist-packages (from requests->earthengine-api) (2.5.0)\n",
            "Requirement already satisfied: certifi>=2017.4.17 in /usr/local/lib/python3.11/dist-packages (from requests->earthengine-api) (2025.7.14)\n",
            "Requirement already satisfied: googleapis-common-protos<2.0.0,>=1.56.2 in /usr/local/lib/python3.11/dist-packages (from google-api-core!=2.0.*,!=2.1.*,!=2.2.*,!=2.3.0,<3.0.0,>=1.31.5->google-api-python-client>=1.12.1->earthengine-api) (1.70.0)\n",
            "Requirement already satisfied: protobuf!=3.20.0,!=3.20.1,!=4.21.0,!=4.21.1,!=4.21.2,!=4.21.3,!=4.21.4,!=4.21.5,<7.0.0,>=3.19.5 in /usr/local/lib/python3.11/dist-packages (from google-api-core!=2.0.*,!=2.1.*,!=2.2.*,!=2.3.0,<3.0.0,>=1.31.5->google-api-python-client>=1.12.1->earthengine-api) (5.29.5)\n",
            "Requirement already satisfied: proto-plus<2.0.0,>=1.22.3 in /usr/local/lib/python3.11/dist-packages (from google-api-core!=2.0.*,!=2.1.*,!=2.2.*,!=2.3.0,<3.0.0,>=1.31.5->google-api-python-client>=1.12.1->earthengine-api) (1.26.1)\n",
            "Requirement already satisfied: pyasn1<0.7.0,>=0.6.1 in /usr/local/lib/python3.11/dist-packages (from pyasn1-modules>=0.2.1->google-auth>=1.4.1->earthengine-api) (0.6.1)\n"
          ]
        }
      ],
      "source": [
        "!pip install earthengine-api"
      ]
    },
    {
      "cell_type": "code",
      "source": [
        "!earthengine authenticate"
      ],
      "metadata": {
        "colab": {
          "base_uri": "https://localhost:8080/"
        },
        "id": "oDyjK3UtRkMI",
        "outputId": "030bfd34-3a33-460b-e76c-2b2d21287c60"
      },
      "execution_count": null,
      "outputs": [
        {
          "output_type": "stream",
          "name": "stdout",
          "text": [
            "WARNING: All log messages before absl::InitializeLog() is called are written to STDERR\n",
            "E0000 00:00:1753791370.831696    1433 cuda_dnn.cc:8310] Unable to register cuDNN factory: Attempting to register factory for plugin cuDNN when one has already been registered\n",
            "E0000 00:00:1753791370.844022    1433 cuda_blas.cc:1418] Unable to register cuBLAS factory: Attempting to register factory for plugin cuBLAS when one has already been registered\n",
            "Authenticate: Limited support in Colab. Use ee.Authenticate() or --auth_mode=notebook instead.\n",
            "W0729 12:16:16.248889 133903011958784 _default.py:711] No project ID could be determined. Consider running `gcloud config set project` or setting the GOOGLE_CLOUD_PROJECT environment variable\n",
            "To authorize access needed by Earth Engine, open the following URL in a web browser and follow the instructions. If the web browser does not start automatically, please manually browse the URL below.\n",
            "\n",
            "    https://code.earthengine.google.com/client-auth?scopes=https%3A//www.googleapis.com/auth/earthengine%20https%3A//www.googleapis.com/auth/cloud-platform%20https%3A//www.googleapis.com/auth/drive%20https%3A//www.googleapis.com/auth/devstorage.full_control&request_id=m4zX68OWHYy8igAkrGWQ8CLJf9YH5sLhBETVceA87pk&tc=xLx3Ck9C89oFPe8mRdut54TKBAZX7Si2uk7G9iyVw7I&cc=HDH7qM6xM9pe4Hq0kXHyz9ottHWB-s__NOzJwe8WG8U\n",
            "\n",
            "The authorization workflow will generate a code, which you should paste in the box below.\n",
            "Enter verification code: 4/1AVMBsJh8sukhshDomlbvOw-lzElsVS56L6wxpn8zuMQxc0EuJiYVC1aWJjU\n",
            "\n",
            "Successfully saved authorization token.\n"
          ]
        }
      ]
    },
    {
      "cell_type": "code",
      "source": [
        "import ee\n",
        "ee.Initialize(project='ee-urasdefne')"
      ],
      "metadata": {
        "id": "xGuRpr5yR0Kd"
      },
      "execution_count": null,
      "outputs": []
    },
    {
      "cell_type": "code",
      "source": [
        "aoi = ee.Geometry.Rectangle([-79.5, 72.0, -77.5, 73.0])\n",
        "\n",
        "# Quality computation\n",
        "def add_quality_metrics(image):\n",
        "    scl = image.select('SCL')\n",
        "    snow = scl.eq(11)\n",
        "    cloud = scl.eq(8).Or(scl.eq(9)).Or(scl.eq(10))\n",
        "    snow_cloud = snow.Or(cloud)\n",
        "    no_data = scl.eq(0)\n",
        "\n",
        "    snow_cloud_fraction = snow_cloud.reduceRegion(\n",
        "        reducer=ee.Reducer.mean(),\n",
        "        geometry=aoi,\n",
        "        scale=20,\n",
        "        maxPixels=1e9\n",
        "    ).get('SCL')\n",
        "\n",
        "    no_data_fraction = no_data.reduceRegion(\n",
        "        reducer=ee.Reducer.mean(),\n",
        "        geometry=aoi,\n",
        "        scale=20,\n",
        "        maxPixels=1e9\n",
        "    ).get('SCL')\n",
        "\n",
        "    return image.set({\n",
        "        'snow_cloud_fraction': snow_cloud_fraction,\n",
        "        'no_data_fraction': no_data_fraction\n",
        "    })\n",
        "\n",
        "# Sentinel-2 filtering\n",
        "s2 = (\n",
        "    ee.ImageCollection('COPERNICUS/S2_SR_HARMONIZED')\n",
        "    .filterBounds(aoi)\n",
        "    .filterDate('2025-03-01', '2025-06-23')\n",
        "    .filter(ee.Filter.lt('CLOUDY_PIXEL_PERCENTAGE', 60))\n",
        "    .map(add_quality_metrics)\n",
        "    .filter(ee.Filter.notNull(['snow_cloud_fraction', 'no_data_fraction']))\n",
        "    .filter(ee.Filter.gte('snow_cloud_fraction', 0.2))\n",
        "    .filter(ee.Filter.lte('no_data_fraction', 0))\n",
        ")\n",
        "\n",
        "# Convert each image to a metadata feature\n",
        "def image_to_feature(img):\n",
        "    return ee.Feature(None, {\n",
        "        'date': img.date().format('YYYY-MM-dd'),\n",
        "        'cloud_pct': img.get('CLOUDY_PIXEL_PERCENTAGE'),\n",
        "        'snow_cloud_frac': img.get('snow_cloud_fraction'),\n",
        "        'tile': img.get('system:index'),\n",
        "        'satellite': img.get('SPACECRAFT_NAME')\n",
        "    })\n",
        "\n",
        "metadata_fc = s2.map(image_to_feature)\n",
        "\n",
        "# Export the metadata to Google Drive\n",
        "task = ee.batch.Export.table.toDrive(\n",
        "    collection=metadata_fc,\n",
        "    description='pond_inlet_metadata_smallAOI',\n",
        "    folder='Sentinel2_PondInlet_Exports',\n",
        "    fileNamePrefix='arctic_filtered_metadata',\n",
        "    fileFormat='CSV'\n",
        ")\n",
        "task.start()\n",
        "\n",
        "print(\"✅ Metadata export started — check Earth Engine Tasks tab.\")"
      ],
      "metadata": {
        "colab": {
          "base_uri": "https://localhost:8080/"
        },
        "id": "sdwlGYSiR5P9",
        "outputId": "f227bd6b-bad3-4aae-91f2-8af5377d51ea"
      },
      "execution_count": null,
      "outputs": [
        {
          "output_type": "stream",
          "name": "stdout",
          "text": [
            "✅ Metadata export started — check Earth Engine Tasks tab.\n"
          ]
        }
      ]
    },
    {
      "cell_type": "code",
      "source": [
        "# Copernicus credentials\n",
        "username = \"username\"\n",
        "password = \"password\"\n",
        "\n",
        "# Step 1: Authenticate and get token\n",
        "def get_access_token(username, password):\n",
        "    url = \"https://identity.dataspace.copernicus.eu/auth/realms/CDSE/protocol/openid-connect/token\"\n",
        "    data = {\n",
        "        \"grant_type\": \"password\",\n",
        "        \"username\": username,\n",
        "        \"password\": password,\n",
        "        \"client_id\": \"cdse-public\",\n",
        "    }\n",
        "    r = requests.post(url, data=data)\n",
        "    r.raise_for_status()\n",
        "    return r.json()[\"access_token\"]\n",
        "\n",
        "# Step 2: Search for Sentinel-2 products by tile and date\n",
        "def search_products_by_tile_and_date(tile, date, token):\n",
        "    base_url = \"https://catalogue.dataspace.copernicus.eu/odata/v1/Products\"\n",
        "    start = f\"{date}T00:00:00.000Z\"\n",
        "    end = f\"{date}T23:59:59.999Z\"\n",
        "    filter_query = (\n",
        "        f\"$filter=contains(Name,'{tile}') and ContentDate/Start ge {start} and ContentDate/Start le {end} \"\n",
        "        f\"and Collection/Name eq 'SENTINEL-2'\"\n",
        "    )\n",
        "    headers = {\"Authorization\": f\"Bearer {token}\"}\n",
        "    response = requests.get(f\"{base_url}?{filter_query}\", headers=headers)\n",
        "    response.raise_for_status()\n",
        "    return response.json().get(\"value\", [])\n",
        "\n",
        "# Step 3: Run the query\n",
        "token = get_access_token(username, password)\n",
        "results = search_products_by_tile_and_date(tile_id, target_date, token)\n",
        "\n",
        "# Step 4: Show the matching product names\n",
        "if results:\n",
        "    for i, product in enumerate(results):\n",
        "        print(f\"{i}: {product['Name']} — ID: {product['Id']}\")\n",
        "else:\n",
        "    print(\"No products found for that tile and date.\")"
      ],
      "metadata": {
        "colab": {
          "base_uri": "https://localhost:8080/"
        },
        "id": "UFFcMXEjY6YR",
        "outputId": "b9e78104-9903-48fe-d5ec-3f2caaca93e5"
      },
      "execution_count": null,
      "outputs": [
        {
          "output_type": "stream",
          "name": "stdout",
          "text": [
            "0: S2C_MSIL1C_20250301T175311_N0511_R141_T17WNV_20250301T193907.SAFE — ID: 281753f8-d9f8-41a4-8da9-175a2cc0b4d5\n",
            "1: S2C_MSIL2A_20250301T175311_N0511_R141_T17WNV_20250301T210709.SAFE — ID: f9d81023-196d-4de9-8301-326c75acc734\n"
          ]
        }
      ]
    },
    {
      "cell_type": "code",
      "source": [
        "import os\n",
        "import requests\n",
        "\n",
        "# Your access token (already retrieved earlier in your session)\n",
        "access_token = token\n",
        "\n",
        "# === Your matching product info ===\n",
        "product_id = \"f9d81023-196d-4de9-8301-326c75acc734\"\n",
        "file_name = \"S2C_MSIL2A_20250301T175311_N0511_R141_T17WNV_20250301T210709\"\n",
        "\n",
        "# ✅ Correct Google Drive folder\n",
        "download_dir = \"/content/drive/MyDrive/Sentinel2_PondInlet_Exports/S2_Downloads\"\n",
        "\n",
        "# === Download function ===\n",
        "def download_single_product(product_id, file_name, access_token, download_dir=\"/content\"):\n",
        "    os.makedirs(download_dir, exist_ok=True)\n",
        "    url = f\"https://zipper.dataspace.copernicus.eu/odata/v1/Products({product_id})/$value\"\n",
        "    headers = {\"Authorization\": f\"Bearer {access_token}\"}\n",
        "    r = requests.get(url, headers=headers, stream=True)\n",
        "\n",
        "    if r.status_code == 200:\n",
        "        file_path = os.path.join(download_dir, file_name + \".zip\")\n",
        "        with open(file_path, \"wb\") as f:\n",
        "            for chunk in r.iter_content(chunk_size=8192):\n",
        "                if chunk:\n",
        "                    f.write(chunk)\n",
        "        print(f\"✅ Downloaded to: {file_path}\")\n",
        "    else:\n",
        "        print(f\"❌ Download failed — {r.status_code}: {r.text}\")\n",
        "\n",
        "# === Start download ===\n",
        "download_single_product(product_id, file_name, access_token, download_dir)"
      ],
      "metadata": {
        "colab": {
          "base_uri": "https://localhost:8080/"
        },
        "id": "eiGkg_2mZTtn",
        "outputId": "7162a5dd-dd5a-4bb8-ae8a-9132482728b3"
      },
      "execution_count": null,
      "outputs": [
        {
          "output_type": "stream",
          "name": "stdout",
          "text": [
            "✅ Downloaded to: /content/drive/MyDrive/Sentinel2_PondInlet_Exports/S2_Downloads/S2C_MSIL2A_20250301T175311_N0511_R141_T17WNV_20250301T210709.zip\n"
          ]
        }
      ]
    },
    {
      "cell_type": "code",
      "source": [
        "# Load and preprocess Sentinel-2 data\n",
        "!pip install rasterio"
      ],
      "metadata": {
        "colab": {
          "base_uri": "https://localhost:8080/"
        },
        "collapsed": true,
        "id": "oGS0356LaPna",
        "outputId": "c3d79a17-0b2e-405d-d9eb-1e0dfb49ca14"
      },
      "execution_count": null,
      "outputs": [
        {
          "output_type": "stream",
          "name": "stdout",
          "text": [
            "Requirement already satisfied: rasterio in /usr/local/lib/python3.11/dist-packages (1.4.3)\n",
            "Requirement already satisfied: affine in /usr/local/lib/python3.11/dist-packages (from rasterio) (2.4.0)\n",
            "Requirement already satisfied: attrs in /usr/local/lib/python3.11/dist-packages (from rasterio) (25.3.0)\n",
            "Requirement already satisfied: certifi in /usr/local/lib/python3.11/dist-packages (from rasterio) (2025.6.15)\n",
            "Requirement already satisfied: click>=4.0 in /usr/local/lib/python3.11/dist-packages (from rasterio) (8.2.1)\n",
            "Requirement already satisfied: cligj>=0.5 in /usr/local/lib/python3.11/dist-packages (from rasterio) (0.7.2)\n",
            "Requirement already satisfied: numpy>=1.24 in /usr/local/lib/python3.11/dist-packages (from rasterio) (2.0.2)\n",
            "Requirement already satisfied: click-plugins in /usr/local/lib/python3.11/dist-packages (from rasterio) (1.1.1)\n",
            "Requirement already satisfied: pyparsing in /usr/local/lib/python3.11/dist-packages (from rasterio) (3.2.3)\n"
          ]
        }
      ]
    },
    {
      "cell_type": "code",
      "source": [
        "import os\n",
        "from glob import glob\n",
        "import rasterio\n",
        "import matplotlib.pyplot as plt\n",
        "import numpy as np\n",
        "import zipfile"
      ],
      "metadata": {
        "id": "DCfG2DktaTrg"
      },
      "execution_count": null,
      "outputs": []
    },
    {
      "cell_type": "code",
      "source": [
        "zip_path = \"/content/drive/MyDrive/Sentinel2_PondInlet_Exports/S2_Downloads/S2C_MSIL2A_20250301T175311_N0511_R141_T17WNV_20250301T210709.zip\"\n",
        "\n",
        "extract_dir = \"/content/drive/MyDrive/Sentinel2_PondInlet_Exports/S2_Downloads\"\n",
        "\n",
        "# Unzip if not already unzipped\n",
        "with zipfile.ZipFile(zip_path, 'r') as zip_ref:\n",
        "    zip_ref.extractall(extract_dir)\n",
        "\n",
        "print(\"Extraction complete.\")"
      ],
      "metadata": {
        "colab": {
          "base_uri": "https://localhost:8080/"
        },
        "id": "FNAWGqjBaXtt",
        "outputId": "b18ac027-5cab-4c79-98c0-21e062d0141c"
      },
      "execution_count": null,
      "outputs": [
        {
          "output_type": "stream",
          "name": "stdout",
          "text": [
            "Extraction complete.\n"
          ]
        }
      ]
    },
    {
      "cell_type": "code",
      "source": [
        "# Path to the .SAFE directory\n",
        "safe_dir = \"/content/drive/MyDrive/Sentinel2_PondInlet_Exports/S2_Downloads/S2C_MSIL2A_20250301T175311_N0511_R141_T17WNV_20250301T210709.SAFE\"\n",
        "\n",
        "# Locate GRANULE folder\n",
        "granule_dir = glob(os.path.join(safe_dir, \"GRANULE\", \"*\"))[0]\n",
        "\n",
        "# Locate image folders\n",
        "img_data_10m = os.path.join(granule_dir, \"IMG_DATA\", \"R10m\")\n",
        "img_data_20m = os.path.join(granule_dir, \"IMG_DATA\", \"R20m\")\n",
        "\n",
        "# Define bands of interest\n",
        "bands_10m = [\"B02\", \"B03\", \"B04\", \"B08\"]\n",
        "bands_20m = [\"B11\", \"B12\"]\n",
        "band_paths = {}\n",
        "\n",
        "# Collect 10m bands\n",
        "for b in bands_10m:\n",
        "    pattern = os.path.join(img_data_10m, f\"*_{b}_10m.jp2\")\n",
        "    band_paths[b] = glob(pattern)[0]\n",
        "\n",
        "# Collect 20m bands\n",
        "for b in bands_20m:\n",
        "    pattern = os.path.join(img_data_20m, f\"*_{b}_20m.jp2\")\n",
        "    band_paths[b] = glob(pattern)[0]\n",
        "\n",
        "# SCL path\n",
        "scl_path = glob(os.path.join(img_data_20m, \"*_SCL_20m.jp2\"))[0]"
      ],
      "metadata": {
        "id": "gdlcg0Qwakg_"
      },
      "execution_count": null,
      "outputs": []
    },
    {
      "cell_type": "code",
      "source": [
        "# Function to manually upscale 20m bands to 10m using nearest-neighbor\n",
        "def upscale_20m_to_10m(band_20m):\n",
        "    return np.repeat(np.repeat(band_20m, 2, axis=0), 2, axis=1)\n",
        "\n",
        "# Bands at 10m resolution\n",
        "bands_10m = [\"B02\", \"B03\", \"B04\", \"B08\"]\n",
        "# Bands at 20m that need upscaling\n",
        "bands_20m = [\"B11\", \"B12\"]\n",
        "\n",
        "all_bands = {}\n",
        "\n",
        "# Load 10m bands\n",
        "for b in bands_10m:\n",
        "    with rasterio.open(band_paths[b]) as src:\n",
        "        all_bands[b] = src.read(1)\n",
        "\n",
        "# Load and upscale 20m bands\n",
        "for b in bands_20m:\n",
        "    with rasterio.open(band_paths[b]) as src:\n",
        "        band = src.read(1)\n",
        "        all_bands[b] = upscale_20m_to_10m(band)\n",
        "\n",
        "# Load and upscale SCL\n",
        "with rasterio.open(scl_path) as src:\n",
        "    scl = src.read(1)\n",
        "    scl_10m = upscale_20m_to_10m(scl)\n",
        "\n",
        "print(\"Loaded and upscaled all bands to 10m resolution.\")\n",
        "print(\"Band shapes:\")\n",
        "for b, arr in all_bands.items():\n",
        "    print(f\"{b}: {arr.shape}\")\n",
        "print(f\"SCL: {scl_10m.shape}\")\n",
        "\n",
        "# Optional: Stack all features into (H, W, C)\n",
        "feature_stack = np.stack([all_bands[b] for b in bands_10m + bands_20m], axis=-1)\n",
        "print(f\"\\nFeature stack shape: {feature_stack.shape} (Height, Width, Bands)\")"
      ],
      "metadata": {
        "colab": {
          "base_uri": "https://localhost:8080/"
        },
        "id": "-ciFaZa2bin2",
        "outputId": "51f01ec3-595e-4bd6-ba6d-4f2d39aaab44"
      },
      "execution_count": null,
      "outputs": [
        {
          "output_type": "stream",
          "name": "stdout",
          "text": [
            "Loaded and upscaled all bands to 10m resolution.\n",
            "Band shapes:\n",
            "B02: (10980, 10980)\n",
            "B03: (10980, 10980)\n",
            "B04: (10980, 10980)\n",
            "B08: (10980, 10980)\n",
            "B11: (10980, 10980)\n",
            "B12: (10980, 10980)\n",
            "SCL: (10980, 10980)\n",
            "\n",
            "Feature stack shape: (10980, 10980, 6) (Height, Width, Bands)\n"
          ]
        }
      ]
    },
    {
      "cell_type": "code",
      "source": [
        "unique, counts = np.unique(scl_10m, return_counts=True)\n",
        "plt.bar(unique, counts)\n",
        "plt.xticks(unique)\n",
        "plt.xlabel(\"SCL Class Value\")\n",
        "plt.ylabel(\"Pixel Count\")\n",
        "plt.title(\"SCL Class Distribution\")\n",
        "plt.grid(True)\n",
        "plt.show()"
      ],
      "metadata": {
        "colab": {
          "base_uri": "https://localhost:8080/",
          "height": 472
        },
        "id": "rBgM_h-8b4_B",
        "outputId": "5f07312e-a4e9-406d-ed68-cca81108405d"
      },
      "execution_count": null,
      "outputs": [
        {
          "output_type": "display_data",
          "data": {
            "text/plain": [
              "<Figure size 640x480 with 1 Axes>"
            ],
            "image/png": "[encoded data removed]"
          },
          "metadata": {}
        }
      ]
    },
    {
      "cell_type": "code",
      "source": [
        "# Flatten feature stack and SCL\n",
        "H, W, C = feature_stack.shape\n",
        "X = feature_stack.reshape(-1, C)\n",
        "scl_flat = scl_10m.flatten()\n",
        "\n",
        "# Mask: keep only valid pixels (SCL ≠ 0)\n",
        "valid_mask = scl_flat != 0\n",
        "X_valid = X[valid_mask]\n",
        "scl_valid = scl_flat[valid_mask]\n",
        "\n",
        "print(f\"X_valid shape: {X_valid.shape}\")\n",
        "print(f\"SCL valid unique values: {np.unique(scl_valid)}\")"
      ],
      "metadata": {
        "colab": {
          "base_uri": "https://localhost:8080/"
        },
        "id": "lsB4_h-vb-zJ",
        "outputId": "5b2d29c0-cef8-408e-c3ec-4f8d0aa403c7"
      },
      "execution_count": null,
      "outputs": [
        {
          "output_type": "stream",
          "name": "stdout",
          "text": [
            "X_valid shape: (67594812, 6)\n",
            "SCL valid unique values: [ 2  3  4  5  6  7  8  9 10 11]\n"
          ]
        }
      ]
    },
    {
      "cell_type": "code",
      "source": [
        "# Dimensions\n",
        "H, W = scl_10m.shape\n",
        "split_row = H // 2  # Horizontal split\n",
        "\n",
        "# Split SCL\n",
        "scl_top = scl_10m[:split_row, :]\n",
        "scl_bottom = scl_10m[split_row:, :]\n",
        "\n",
        "# Mask out no-data (SCL == 0)\n",
        "scl_masked_top = np.where(scl_top == 0, np.nan, scl_top)\n",
        "scl_masked_bottom = np.where(scl_bottom == 0, np.nan, scl_bottom)"
      ],
      "metadata": {
        "id": "zMqrfUJ2cCVv"
      },
      "execution_count": null,
      "outputs": []
    },
    {
      "cell_type": "code",
      "source": [
        "def create_patches(X, y, patch_size=64, classes=[2,3,4,5,6,7,8,9,10,11]):\n",
        "    H, W, C = X.shape\n",
        "    patches = []\n",
        "    labels = []\n",
        "    for i in range(0, H - patch_size, patch_size):\n",
        "        for j in range(0, W - patch_size, patch_size):\n",
        "            patch = X[i:i+patch_size, j:j+patch_size, :]\n",
        "            label_patch = y[i:i+patch_size, j:j+patch_size]\n",
        "            unique = np.unique(label_patch)\n",
        "            unique = unique[unique != 0]\n",
        "            if len(unique) == 1 and unique[0] in classes:\n",
        "                patches.append(patch)\n",
        "                labels.append(unique[0])\n",
        "    return np.array(patches), np.array(labels)\n",
        "\n",
        "patches, patch_labels = create_patches(feature_stack, scl_10m)\n",
        "print(\"✅ Patches:\", patches.shape, \"Labels:\", patch_labels.shape)"
      ],
      "metadata": {
        "colab": {
          "base_uri": "https://localhost:8080/"
        },
        "id": "5QHeF_UcowX1",
        "outputId": "f0aceebc-9498-4266-b317-6872451e9640"
      },
      "execution_count": null,
      "outputs": [
        {
          "output_type": "stream",
          "name": "stdout",
          "text": [
            "✅ Patches: (10402, 64, 64, 6) Labels: (10402,)\n"
          ]
        }
      ]
    },
    {
      "cell_type": "code",
      "source": [
        "# Save patches and labels to disk\n",
        "np.save(\"/content/drive/MyDrive/Sentinel2_PondInlet_Exports/X_patches.npy\", patches)\n",
        "np.save(\"/content/drive/MyDrive/Sentinel2_PondInlet_Exports/y_labels.npy\", patch_labels)\n",
        "\n",
        "print(\"✅ Saved patch data to Google Drive.\")"
      ],
      "metadata": {
        "colab": {
          "base_uri": "https://localhost:8080/"
        },
        "id": "rlcNexAorb4T",
        "outputId": "ee8e39f2-37a3-4d5a-b9af-264eebc45a97"
      },
      "execution_count": null,
      "outputs": [
        {
          "output_type": "stream",
          "name": "stdout",
          "text": [
            "✅ Saved patch data to Google Drive.\n"
          ]
        }
      ]
    },
    {
      "cell_type": "code",
      "source": [
        "print(\"X_patches shape:\", patches.shape)      # Should be (N, 64, 64, 6)\n",
        "print(\"y_labels shape:\", patch_labels.shape)  # Should be (N,)\n",
        "\n",
        "# Check pixel value range (should not be all 0 or nan)\n",
        "print(\"Patch min:\", np.min(patches))\n",
        "print(\"Patch max:\", np.max(patches))\n",
        "print(\"Unique labels:\", np.unique(patch_labels))"
      ],
      "metadata": {
        "colab": {
          "base_uri": "https://localhost:8080/"
        },
        "id": "5Xu1WSbQuLz-",
        "outputId": "f03dfb43-8dd5-4b9f-fd22-e3d762b015d9"
      },
      "execution_count": null,
      "outputs": [
        {
          "output_type": "stream",
          "name": "stdout",
          "text": [
            "X_patches shape: (10402, 64, 64, 6)\n",
            "y_labels shape: (10402,)\n",
            "Patch min: 0\n",
            "Patch max: 16192\n",
            "Unique labels: [ 2  5  6  8 11]\n"
          ]
        }
      ]
    }
  ]
}